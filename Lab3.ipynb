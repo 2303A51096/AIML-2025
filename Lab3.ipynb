{
  "nbformat": 4,
  "nbformat_minor": 0,
  "metadata": {
    "colab": {
      "provenance": [],
      "authorship_tag": "ABX9TyM9eMB6rIch5kKK0GxTfs2L",
      "include_colab_link": true
    },
    "kernelspec": {
      "name": "python3",
      "display_name": "Python 3"
    },
    "language_info": {
      "name": "python"
    }
  },
  "cells": [
    {
      "cell_type": "markdown",
      "metadata": {
        "id": "view-in-github",
        "colab_type": "text"
      },
      "source": [
        "<a href=\"https://colab.research.google.com/github/2303A51096/AIML-2025/blob/main/Lab3.ipynb\" target=\"_parent\"><img src=\"https://colab.research.google.com/assets/colab-badge.svg\" alt=\"Open In Colab\"/></a>"
      ]
    },
    {
      "cell_type": "code",
      "execution_count": 2,
      "metadata": {
        "id": "00tUk4BZbNVq"
      },
      "outputs": [],
      "source": [
        "from collections import namedtuple, Counter, defaultdict\n",
        "import random\n",
        "import math\n",
        "import functools\n",
        "cache = functools.lru_cache(10**6)"
      ]
    },
    {
      "cell_type": "code",
      "source": [
        "class Game:\n",
        "  def actions(self, state ):\n",
        "      ##Return a collection of the allowable moves from this state\n",
        "      raise NotImplementedError\n",
        "  def result(self, state , move ):\n",
        "      ##Return the state that results from making a move from a state\n",
        "      raise NotImplementedError\n",
        "  def is_terminal (self, state ):\n",
        "      ##Return True i f this is a final state for the game\n",
        "      return not self.actions(state)\n",
        "  def utility(self, state , player ):\n",
        "      ##Return the value of this final state to player\n",
        "      raise NotImplementedError\n"
      ],
      "metadata": {
        "id": "mGFN2aarbQ_I"
      },
      "execution_count": 1,
      "outputs": []
    }
  ]
}